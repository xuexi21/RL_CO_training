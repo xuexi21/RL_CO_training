{
  "nbformat": 4,
  "nbformat_minor": 0,
  "metadata": {
    "colab": {
      "provenance": [],
      "toc_visible": true,
      "include_colab_link": true
    },
    "kernelspec": {
      "name": "python3",
      "display_name": "Python 3"
    },
    "language_info": {
      "name": "python"
    }
  },
  "cells": [
    {
      "cell_type": "markdown",
      "metadata": {
        "id": "view-in-github",
        "colab_type": "text"
      },
      "source": [
        "<a href=\"https://colab.research.google.com/github/xuexi21/RL_CO_training/blob/main/text_co_training.ipynb\" target=\"_parent\"><img src=\"https://colab.research.google.com/assets/colab-badge.svg\" alt=\"Open In Colab\"/></a>"
      ]
    },
    {
      "cell_type": "markdown",
      "source": [
        "# Text data (20newsgroups) Preprocess"
      ],
      "metadata": {
        "id": "bXrnWo1cWphC"
      }
    },
    {
      "cell_type": "code",
      "execution_count": null,
      "metadata": {
        "id": "XNEUmEI7q1qX"
      },
      "outputs": [],
      "source": [
        "from sklearn.datasets import fetch_20newsgroups\n",
        "\n",
        "from sklearn.cluster import KMeans\n",
        "from sklearn.decomposition import TruncatedSVD\n",
        "from sklearn.feature_extraction.text import TfidfVectorizer\n",
        "from sklearn.pipeline import make_pipeline\n",
        "from sklearn.preprocessing import Normalizer\n",
        "\n",
        "from sklearn.neighbors import KNeighborsClassifier\n",
        "from sklearn.model_selection import train_test_split\n",
        "from sklearn.svm import SVC\n",
        "\n",
        "from sklearn.metrics import precision_recall_fscore_support\n",
        "\n",
        "\n",
        "from time import time\n",
        "\n",
        "\n",
        "import numpy as np\n",
        "import pandas as pd\n",
        "import matplotlib.pyplot as plt\n",
        "import seaborn as sns\n",
        "\n"
      ]
    },
    {
      "cell_type": "code",
      "source": [
        "categories = [\n",
        "    \"alt.atheism\",\n",
        "    \"talk.religion.misc\",\n",
        "    \"comp.graphics\",\n",
        "    \"sci.space\",\n",
        "]\n",
        "\n",
        "\n",
        "# Load the 20 newsgroups dataset\n",
        "newsgroups = fetch_20newsgroups(subset='all', remove=('headers', 'footers', 'quotes'), categories=categories,)\n",
        "\n",
        "# Create a DataFrame from the dataset\n",
        "df = pd.DataFrame({'text': newsgroups.data, 'label': newsgroups.target})\n",
        "\n",
        "# Map target labels to target names\n",
        "df['label'] = df['label'].map(lambda x: newsgroups.target_names[x])\n",
        "\n",
        "true_k = len(df.label.unique())\n",
        "labels = df['label']\n",
        "\n",
        "print(f\"Number of unique labels: {true_k}\")\n",
        "\n",
        "# Explore the dataset\n",
        "print(df.head())\n",
        "print(df['label'].value_counts())\n"
      ],
      "metadata": {
        "colab": {
          "base_uri": "https://localhost:8080/"
        },
        "id": "z6AxYk1zeC3F",
        "outputId": "15145b29-c17f-4738-fa18-fe997d8489b2"
      },
      "execution_count": null,
      "outputs": [
        {
          "output_type": "stream",
          "name": "stdout",
          "text": [
            "Number of unique labels: 4\n",
            "                                                text               label\n",
            "0  My point is that you set up your views as the ...         alt.atheism\n",
            "1  \\nBy '8 grey level images' you mean 8 items of...       comp.graphics\n",
            "2  FIRST ANNUAL PHIGS USER GROUP CONFERENCE\\n\\n  ...       comp.graphics\n",
            "3  I responded to Jim's other articles today, but...  talk.religion.misc\n",
            "4  \\nWell, I am placing a file at my ftp today th...       comp.graphics\n",
            "label\n",
            "sci.space             987\n",
            "comp.graphics         973\n",
            "alt.atheism           799\n",
            "talk.religion.misc    628\n",
            "Name: count, dtype: int64\n"
          ]
        }
      ]
    },
    {
      "cell_type": "code",
      "source": [
        "# Visualize the distribution of categories\n",
        "plt.figure(figsize=(10, 6))\n",
        "df['label'].value_counts().plot(kind='bar', colormap='viridis')\n",
        "plt.title('Distribution of Categories')\n",
        "plt.xlabel('Categories')\n",
        "plt.ylabel('Count')\n",
        "plt.show()"
      ],
      "metadata": {
        "colab": {
          "base_uri": "https://localhost:8080/",
          "height": 669
        },
        "id": "iWdf7-TRq8eX",
        "outputId": "10c3e43a-50b8-4d34-d12f-89861e7bed71"
      },
      "execution_count": null,
      "outputs": [
        {
          "output_type": "display_data",
          "data": {
            "text/plain": [
              "<Figure size 1000x600 with 1 Axes>"
            ],
            "image/png": "[encoded data removed]"
          },
          "metadata": {}
        }
      ]
    },
    {
      "cell_type": "markdown",
      "source": [
        "## Vectorize - TFIDF\n"
      ],
      "metadata": {
        "id": "oxb2GSe4O1R3"
      }
    },
    {
      "cell_type": "code",
      "source": [
        "from sklearn.feature_extraction.text import TfidfVectorizer\n",
        "from time import time\n",
        "\n",
        "vectorizer = TfidfVectorizer(\n",
        "    max_df=0.5,\n",
        "    min_df=5,\n",
        "    stop_words=\"english\",\n",
        ")\n",
        "t0 = time()\n",
        "X_tfidf = vectorizer.fit_transform(df.text)\n",
        "\n",
        "print(f\"vectorization done in {time() - t0:.3f} s\")\n",
        "print(f\"n_samples: {X_tfidf.shape[0]}, n_features: {X_tfidf.shape[1]}\")"
      ],
      "metadata": {
        "id": "eCYjdudXg7rM",
        "colab": {
          "base_uri": "https://localhost:8080/"
        },
        "outputId": "eb4bae22-78a5-4827-f506-955cdbc5f005"
      },
      "execution_count": null,
      "outputs": [
        {
          "output_type": "stream",
          "name": "stdout",
          "text": [
            "vectorization done in 0.582 s\n",
            "n_samples: 3387, n_features: 7929\n"
          ]
        }
      ]
    },
    {
      "cell_type": "markdown",
      "source": [
        "After ignoring terms that appear in more than 50% of the documents (as set by max_df=0.5) and terms that are not present in at least 5 documents (set by min_df=5), the resulting number of unique terms n_features is around 8,000. We can additionally quantify the sparsity of the X_tfidf matrix as the fraction of non-zero entries divided by the total number of elements."
      ],
      "metadata": {
        "id": "x5lqEKsHPOvs"
      }
    },
    {
      "cell_type": "code",
      "source": [
        "\n",
        "\n",
        "print(f\"{X_tfidf.nnz / np.prod(X_tfidf.shape):.3f}\")"
      ],
      "metadata": {
        "id": "fLo4tikAhXZf",
        "colab": {
          "base_uri": "https://localhost:8080/"
        },
        "outputId": "0381705b-941b-4c85-f975-37c237daf7dc"
      },
      "execution_count": null,
      "outputs": [
        {
          "output_type": "stream",
          "name": "stdout",
          "text": [
            "0.007\n"
          ]
        }
      ]
    },
    {
      "cell_type": "markdown",
      "source": [
        "We find that around 0.7% of the entries of the X_tfidf matrix are non-zero."
      ],
      "metadata": {
        "id": "np9k_-A1PZf_"
      }
    },
    {
      "cell_type": "code",
      "source": [
        "## fit and evaluate the clustering\n",
        "\n",
        "from collections import defaultdict\n",
        "from time import time\n",
        "\n",
        "from sklearn import metrics\n",
        "\n",
        "evaluations = []\n",
        "evaluations_std = []\n",
        "\n",
        "\n",
        "def fit_and_evaluate(km, X, name=None, n_runs=5):\n",
        "    name = km.__class__.__name__ if name is None else name\n",
        "\n",
        "    train_times = []\n",
        "    scores = defaultdict(list)\n",
        "    for seed in range(n_runs):\n",
        "        km.set_params(random_state=seed)\n",
        "        t0 = time()\n",
        "        km.fit(X)\n",
        "        train_times.append(time() - t0)\n",
        "        scores[\"Homogeneity\"].append(metrics.homogeneity_score(labels, km.labels_))\n",
        "        scores[\"Completeness\"].append(metrics.completeness_score(labels, km.labels_))\n",
        "        scores[\"V-measure\"].append(metrics.v_measure_score(labels, km.labels_))\n",
        "        scores[\"Adjusted Rand-Index\"].append(\n",
        "            metrics.adjusted_rand_score(labels, km.labels_)\n",
        "        )\n",
        "        scores[\"Silhouette Coefficient\"].append(\n",
        "            metrics.silhouette_score(X, km.labels_, sample_size=2000)\n",
        "        )\n",
        "    train_times = np.asarray(train_times)\n",
        "\n",
        "    print(f\"clustering done in {train_times.mean():.2f} ± {train_times.std():.2f} s \")\n",
        "    evaluation = {\n",
        "        \"estimator\": name,\n",
        "        \"train_time\": train_times.mean(),\n",
        "    }\n",
        "    evaluation_std = {\n",
        "        \"estimator\": name,\n",
        "        \"train_time\": train_times.std(),\n",
        "    }\n",
        "    for score_name, score_values in scores.items():\n",
        "        mean_score, std_score = np.mean(score_values), np.std(score_values)\n",
        "        print(f\"{score_name}: {mean_score:.3f} ± {std_score:.3f}\")\n",
        "        evaluation[score_name] = mean_score\n",
        "        evaluation_std[score_name] = std_score\n",
        "    evaluations.append(evaluation)\n",
        "    evaluations_std.append(evaluation_std)"
      ],
      "metadata": {
        "id": "hshnwuqGhXXc"
      },
      "execution_count": null,
      "outputs": []
    },
    {
      "cell_type": "markdown",
      "source": [
        "## Performing dimensionality reduction using LSA\n",
        "A n_init=1 can still be used as long as the dimension of the vectorized space is reduced first to make k-means more stable. For such purpose we use TruncatedSVD, which works on term count/tf-idf matrices. Since SVD results are not normalized, we redo the normalization to improve the KMeans result. Using SVD to reduce the dimensionality of TF-IDF document vectors is often known as latent semantic analysis (LSA) in the information retrieval and text mining literature."
      ],
      "metadata": {
        "id": "RH8WXvGPQYR9"
      }
    },
    {
      "cell_type": "code",
      "source": [
        "# from sklearn.decomposition import TruncatedSVD\n",
        "# from sklearn.pipeline import make_pipeline\n",
        "# from sklearn.preprocessing import Normalizer\n",
        "\n",
        "lsa = make_pipeline(TruncatedSVD(n_components=100), Normalizer(copy=False))\n",
        "t0 = time()\n",
        "X_lsa = lsa.fit_transform(X_tfidf)\n",
        "explained_variance = lsa[0].explained_variance_ratio_.sum()\n",
        "\n",
        "print(f\"LSA done in {time() - t0:.3f} s\")\n",
        "print(f\"Explained variance of the SVD step: {explained_variance * 100:.1f}%\")"
      ],
      "metadata": {
        "id": "G_qIQpKWhXVJ",
        "colab": {
          "base_uri": "https://localhost:8080/"
        },
        "outputId": "15236372-a135-4c6c-bed1-4002047917ab"
      },
      "execution_count": null,
      "outputs": [
        {
          "output_type": "stream",
          "name": "stdout",
          "text": [
            "LSA done in 1.574 s\n",
            "Explained variance of the SVD step: 18.4%\n"
          ]
        }
      ]
    },
    {
      "cell_type": "code",
      "source": [
        "kmeans = KMeans(\n",
        "    n_clusters=true_k,\n",
        "    max_iter=100,\n",
        "    n_init=1,\n",
        ")\n",
        "\n",
        "fit_and_evaluate(kmeans, X_lsa, name=\"KMeans\\nwith LSA on tf-idf vectors\")"
      ],
      "metadata": {
        "id": "7NXpbE2ehXSf",
        "colab": {
          "base_uri": "https://localhost:8080/"
        },
        "outputId": "de411ba7-5053-4c9c-af23-9f66742b821d"
      },
      "execution_count": null,
      "outputs": [
        {
          "output_type": "stream",
          "name": "stdout",
          "text": [
            "clustering done in 0.05 ± 0.02 s \n",
            "Homogeneity: 0.406 ± 0.018\n",
            "Completeness: 0.442 ± 0.014\n",
            "V-measure: 0.423 ± 0.015\n",
            "Adjusted Rand-Index: 0.359 ± 0.042\n",
            "Silhouette Coefficient: 0.030 ± 0.002\n"
          ]
        }
      ]
    },
    {
      "cell_type": "markdown",
      "source": [
        "## Top terms per cluster\n",
        "Since TfidfVectorizer can be inverted we can identify the cluster centers, which provide an intuition of the most influential words for each cluster. See the example script Classification of text documents using sparse features for a comparison with the most predictive words for each target class."
      ],
      "metadata": {
        "id": "w6w2S1_-UvjI"
      }
    },
    {
      "cell_type": "code",
      "source": [
        "original_space_centroids = lsa[0].inverse_transform(kmeans.cluster_centers_)\n",
        "order_centroids = original_space_centroids.argsort()[:, ::-1]\n",
        "terms = vectorizer.get_feature_names_out()\n",
        "\n",
        "for i in range(true_k):\n",
        "    print(f\"Cluster {i}: \", end=\"\")\n",
        "    for ind in order_centroids[i, :10]:\n",
        "        print(f\"{terms[ind]} \", end=\"\")\n",
        "    print()"
      ],
      "metadata": {
        "id": "ueVQ_kznhXMf",
        "colab": {
          "base_uri": "https://localhost:8080/"
        },
        "outputId": "e7b48ab2-a087-4385-bdde-6fd032d3d5d5"
      },
      "execution_count": null,
      "outputs": [
        {
          "output_type": "stream",
          "name": "stdout",
          "text": [
            "Cluster 0: don people think just know say like time did religion \n",
            "Cluster 1: thanks graphics image know files program edu file does looking \n",
            "Cluster 2: space launch orbit shuttle nasa earth moon like mission just \n",
            "Cluster 3: god jesus bible believe say people faith christian does christians \n"
          ]
        }
      ]
    },
    {
      "cell_type": "markdown",
      "source": [
        "# Data prepare for RLCO"
      ],
      "metadata": {
        "id": "H9xPWNfQWgZg"
      }
    },
    {
      "cell_type": "code",
      "source": [
        "## check the data shape for RLCO\n",
        "print(f\"X_lsa_shape: {X_lsa.shape}\")\n",
        "\n",
        "print(f\"X_lsa example:\\n{X_lsa[0]}\")\n",
        "\n",
        "# print the type of X_lsa\n",
        "print(f\"X_lsa dtype: {type(X_lsa)}\")"
      ],
      "metadata": {
        "id": "Q94v-yqQhXKI",
        "colab": {
          "base_uri": "https://localhost:8080/"
        },
        "outputId": "1dbe9ba7-91b8-4ed9-c45d-b05b0af3a5cb"
      },
      "execution_count": null,
      "outputs": [
        {
          "output_type": "stream",
          "name": "stdout",
          "text": [
            "X_lsa_shape: (3387, 100)\n",
            "X_lsa example:\n",
            "[ 0.38479809 -0.17373049 -0.07299921 -0.09354702  0.02959148 -0.02422737\n",
            "  0.02540203  0.04991506  0.10840514  0.22073412 -0.28380595  0.01505376\n",
            "  0.00204224  0.01455106 -0.02963745  0.04950933 -0.03076673 -0.01025482\n",
            "  0.0259164  -0.05438725 -0.10103108  0.06037184 -0.04660248 -0.08681733\n",
            " -0.16600339 -0.09735977  0.09898062 -0.09180151 -0.10225434 -0.13973581\n",
            "  0.04987946  0.00869783 -0.05464039 -0.01462536  0.06551162 -0.05581816\n",
            "  0.0118186  -0.05392021 -0.21719373  0.01234859  0.14471303 -0.07955392\n",
            " -0.11852731  0.1150313   0.10485312 -0.0929713   0.11470404  0.07375732\n",
            " -0.09246716  0.01934603  0.01072036  0.07523094 -0.11103964 -0.12903704\n",
            "  0.01734135  0.17399531  0.01694447 -0.00477351  0.17627346  0.08615471\n",
            "  0.07233492  0.03618456  0.0035158   0.09546139  0.06618747 -0.04149687\n",
            "  0.0707421   0.13596133 -0.0252726   0.03399119  0.05447108 -0.06664744\n",
            " -0.03971954 -0.08346857  0.15825584 -0.05072605 -0.14087653  0.15442842\n",
            " -0.03720233  0.09147695  0.00374645  0.06232887  0.11493397  0.00702012\n",
            " -0.03633617  0.03007884  0.06413166 -0.00247334  0.00377389 -0.00148278\n",
            "  0.05356507  0.08501239 -0.08279271 -0.09615058 -0.02401831 -0.13384701\n",
            "  0.17228936 -0.05580326 -0.11961883 -0.12655803]\n",
            "X_lsa dtype: <class 'numpy.ndarray'>\n"
          ]
        }
      ]
    },
    {
      "cell_type": "code",
      "source": [
        "## Check y shape and example:\n",
        "y_int = df['label'].map(lambda x: newsgroups.target_names.index(x))\n",
        "y_int = np.array(y_int)\n",
        "\n",
        "print(f\"y_int shape: {y_int.shape}\")\n",
        "\n",
        "print(f\"first 10 y_int example:\\n{y_int[0:10,]}\")\n",
        "\n",
        "# print the type of y_int\n",
        "print(f\"y_int dtype: {type(y_int)}\")"
      ],
      "metadata": {
        "id": "gqIr8EB8hXIO",
        "colab": {
          "base_uri": "https://localhost:8080/"
        },
        "outputId": "35dff159-d6ec-4a87-90e1-eb508dd13946"
      },
      "execution_count": null,
      "outputs": [
        {
          "output_type": "stream",
          "name": "stdout",
          "text": [
            "y_int shape: (3387,)\n",
            "first 10 y_int example:\n",
            "[0 1 1 3 1 1 2 2 2 0]\n",
            "y_int dtype: <class 'numpy.ndarray'>\n"
          ]
        }
      ]
    },
    {
      "cell_type": "code",
      "source": [
        "# split the training(labeled) as 10% of dataset\n",
        "X_l, X_ul, y_l, y_ul = train_test_split(X_lsa, y_int, test_size=0.8, random_state=0)\n",
        "\n",
        "\n",
        "# split the training(labeled) as 50% of  labeled dataset\n",
        "X_l_train, X_l_test, y_l_train, y_l_test = train_test_split(X_l, y_l, test_size=0.5, random_state=0)\n"
      ],
      "metadata": {
        "id": "DChvc6qjVzan"
      },
      "execution_count": null,
      "outputs": []
    },
    {
      "cell_type": "code",
      "source": [
        "\n",
        "# Initialize classifiers (KNN and SVM)\n",
        "knn = KNeighborsClassifier(n_neighbors=10, metric='cosine')\n",
        "svm = SVC(kernel='rbf', probability=True, tol=1e-4, max_iter=10000, C=1.0)\n",
        "classifiers = [knn, svm]"
      ],
      "metadata": {
        "id": "2yi3G8p4Yiq_"
      },
      "execution_count": null,
      "outputs": []
    },
    {
      "cell_type": "code",
      "source": [
        "# define ENV\n",
        "\n",
        "# for clustering the unlabeld data\n",
        "from sklearn.cluster import KMeans\n",
        "import numpy as np\n",
        "import matplotlib.pyplot as plt\n",
        "\n",
        "#\n",
        "import torch\n",
        "import torch.nn as nn\n",
        "import torch.nn.functional as F\n",
        "import torch.optim as optim\n",
        "\n",
        "\n",
        "class Env():\n",
        "    def __init__(self, classifier_1, classifier_2, input_ul_data, k, X_test, y_test, X_reset, y_reset):\n",
        "        # super().__init__\n",
        "        self.model_1 = classifier_1\n",
        "        self.model_2 = classifier_2\n",
        "        # UN LABEL DATA\n",
        "        self.X_ul = input_ul_data\n",
        "        # define the evaluate data, later use for the reward\n",
        "        self.X_eval = X_test\n",
        "        self.y_eval = y_test\n",
        "        self.X_reset = X_reset\n",
        "        self.y_reset = y_reset\n",
        "        # cluster the data\n",
        "        self.action_size = k\n",
        "        self.kmeans = KMeans(n_clusters=k,  n_init=10)\n",
        "        self.cluster_label = self.kmeans.fit_predict(self.X_ul)\n",
        "        self.u_cluster_label = np.unique(self.cluster_label)\n",
        "        self.centroids = self.kmeans.cluster_centers_\n",
        "        self.observation_size = self.get_state(reset=True).shape[1]\n",
        "        self.prev_macro_f1 = 0.0\n",
        "\n",
        "    # def cluster_plot(self):\n",
        "    #     for i in self.u_cluster_label:\n",
        "    #         plt.scatter(self.X_ul[self.cluster_label == i , 0] ,\n",
        "    #                     self.X_ul[self.cluster_label == i , 1] ,\n",
        "    #                     label = i)\n",
        "    #     plt.scatter(self.centroids[:,0],\n",
        "    #                 self.centroids[:,1],\n",
        "    #                 s=80,\n",
        "    #                 color='k')\n",
        "    #     # plt.legend()\n",
        "    #     plt.title(f'{self.k} cluster (centroids) of unlabeled data')\n",
        "    #     plt.show()\n",
        "\n",
        "    # update 2 clf\n",
        "    def train_2_clf(self, X, y):\n",
        "        self.model_1.fit(X, y)\n",
        "        self.model_2.fit(X, y)\n",
        "\n",
        "    def get_state(self,reset=False):\n",
        "        np.random.seed(123)\n",
        "        if reset:\n",
        "            self.train_2_clf(self.X_reset, self.y_reset)\n",
        "            print(\"reset\")\n",
        "        out_1 = self.model_1.predict_proba(self.centroids)\n",
        "        out_2 = self.model_2.predict_proba(self.centroids)\n",
        "        state_proba = np.concatenate((out_1, out_2), axis=1)\n",
        "        return  torch.from_numpy(state_proba).to(torch.float32).reshape(1, -1)\n",
        "\n",
        "\n",
        "    # def get_acc(self):\n",
        "    #     pred_1 = self.model_1.predict(self.X_eval)\n",
        "    #     pred_2 = self.model_1.predict(self.X_eval)\n",
        "    #     acc_1 = accuracy_score(pred_1, self.y_eval)\n",
        "    #     acc_2 = accuracy_score(pred_2, self.y_eval)\n",
        "    #     return acc_1, acc_2\n",
        "    def get_f1(self):\n",
        "        classifier_weights = [clf.score(self.X_eval, self.y_eval) for clf in [self.model_1, self.model_2]]  # Weights based on validation accuracy\n",
        "        combined_probabilities = np.average(\n",
        "            [clf.predict_proba(self.X_eval) for clf in [self.model_1, self.model_2]],\n",
        "            axis=0,\n",
        "            weights=classifier_weights\n",
        "        )\n",
        "\n",
        "        # Get final predictions from combined probabilities\n",
        "        combined_predictions = np.argmax(combined_probabilities, axis=1)\n",
        "\n",
        "\n",
        "        # Calculate F1 scores per class (harmonic means)\n",
        "        precision, recall, f1_per_class, _ = precision_recall_fscore_support(self.y_eval, combined_predictions, average=None)\n",
        "\n",
        "        # Compute Macro-F1 as arithmetic mean of F1 scores\n",
        "        macro_f1 = np.mean(f1_per_class)\n",
        "\n",
        "        return macro_f1\n",
        "\n",
        "    # def get_acc(self):\n",
        "    #     pred_1 = self.model_1.predict(self.X_eval)\n",
        "    #     pred_2 = self.model_1.predict(self.X_eval)\n",
        "    #     acc_1 = accuracy_score(pred_1, self.y_eval)\n",
        "    #     acc_2 = accuracy_score(pred_2, self.y_eval)\n",
        "    #     return acc_1, acc_2\n",
        "\n",
        "    ######\n",
        "    ######\n",
        "    def get_subset(self, action):\n",
        "        # choose subset\n",
        "        subset = self.X_ul[self.cluster_label == action]\n",
        "        return subset\n",
        "\n",
        "    def co_training(self, subset):\n",
        "        ## get posodu label\n",
        "        clf_0_p_label = self.model_1.predict(subset)\n",
        "        clf_1_p_label = self.model_2.predict(subset)\n",
        "\n",
        "        ## get proba_\n",
        "        clf_0_p_y = self.model_1.predict_proba(subset)\n",
        "        clf_1_p_y = self.model_2.predict_proba(subset)\n",
        "\n",
        "        #get the label size\n",
        "        y_num = subset.shape[0]\n",
        "        # set empty y  #type=ndarray\n",
        "        y_ul_action = np.zeros(y_num,)\n",
        "\n",
        "        #############\n",
        "        # confidence_diff = 0\n",
        "        # combine the lable from two classifier, choose the most conffidence\n",
        "        for i in range(y_num):\n",
        "            if max(clf_0_p_y[i, ]) > max(clf_1_p_y[i, ]):\n",
        "                y_ul_action[i] = clf_0_p_label[i]\n",
        "                # print('0')\n",
        "            else:\n",
        "                y_ul_action[i] = clf_1_p_label[i]\n",
        "                # print('1')\n",
        "\n",
        "        ########### update the label_set for traning\n",
        "        X_updated = np.concatenate((X_l_train, subset), axis=0)\n",
        "        y_updated = np.concatenate((y_l_train, y_ul_action), axis=0)\n",
        "\n",
        "        # print(f'X shape is {X_updated.shape} \\ny shape is {y_updated.shape}')\n",
        "\n",
        "        ############# use the updated labeld dateset retrain those 2 classifier\n",
        "        self.train_2_clf(X_updated, y_updated)\n",
        "\n",
        "        # RETURN THE co-trained CLASSIFIER'S mean marcof1.\n",
        "        marco_f1 = self.get_f1()\n",
        "        return marco_f1\n",
        "\n",
        "    def step(self, action):\n",
        "        # GET THE bigining state accuracy, later use to calculate the reward\n",
        "        pre_marco_f1 = self.get_f1()\n",
        "\n",
        "        # choose subset\n",
        "        choosen_subset =  self.get_subset(action)\n",
        "\n",
        "        # cotraining the 2 classifier\n",
        "        new_marco_f1 = self.co_training(choosen_subset)\n",
        "\n",
        "        # get the next state_\n",
        "        n_state = self.get_state()\n",
        "\n",
        "        ##############\n",
        "        # calculate the reward\n",
        "        ##############\n",
        "        if new_marco_f1 > pre_marco_f1:\n",
        "            reward_0 = new_marco_f1 - pre_marco_f1\n",
        "        else:\n",
        "            reward_0 = 0\n",
        "\n",
        "        return n_state, reward_0, new_marco_f1\n"
      ],
      "metadata": {
        "id": "og9ZTwA2YioZ"
      },
      "execution_count": null,
      "outputs": []
    },
    {
      "cell_type": "code",
      "source": [
        "## RL functions##\n",
        "import random\n",
        "from collections import deque\n",
        "\n",
        "\n",
        "\n",
        "\n",
        "# Define the Q-network (a simple feedforward neural network)\n",
        "class QNetwork(nn.Module):\n",
        "    def __init__(self, state_size, action_size):\n",
        "        super(QNetwork, self).__init__()\n",
        "        self.fc1 = nn.Linear(state_size, 128)\n",
        "        self.fc2 = nn.Linear(128, 128)\n",
        "        self.fc3 = nn.Linear(128, action_size)\n",
        "\n",
        "    def forward(self, x):\n",
        "        x = F.relu(self.fc1(x))\n",
        "        x = F.relu(self.fc2(x))\n",
        "        return self.fc3(x)\n",
        "\n",
        "\n",
        "class ReplayBuffer:\n",
        "\n",
        "    def __init__(self, capacity):\n",
        "        self.memory = deque([], maxlen=capacity)\n",
        "\n",
        "    def push(self, state, action, reward, next_state):\n",
        "        # # bug - some times the state is not\n",
        "        # if len(state) != 4:\n",
        "        #     state = state[0]\n",
        "        experience_tuple = (state, action, reward, next_state)\n",
        "        # Append experience_tuple to the memory buffer\n",
        "        self.memory.append(experience_tuple)\n",
        "\n",
        "    def __len__(self):\n",
        "        return len(self.memory)\n",
        "\n",
        "    def sample(self, batch_size):\n",
        "        # Draw a random sample of size batch_size\n",
        "        batch = random.sample(self.memory, batch_size)\n",
        "        # Transform batch into a tuple of lists\n",
        "        states, actions, rewards, next_states = (zip(*batch))\n",
        "        return states, actions, rewards, next_states\n",
        "\n"
      ],
      "metadata": {
        "id": "Vipyg4aLYimM"
      },
      "execution_count": null,
      "outputs": []
    },
    {
      "cell_type": "code",
      "source": [
        "k = 20\n",
        "env = Env(classifiers[0], classifiers[1], input_ul_data=X_ul, k=k, X_test=X_l_test, y_test=y_l_test, X_reset=X_l_train, y_reset=y_l_train)\n",
        "state_0 = env.get_state(reset=True)\n",
        "# print(f'state_0 shape is {state_0.shape} state_0:{state_0}')\n",
        "state, reward, marco_f1 = env.step(19)\n",
        "# print(f'state shape is {state.shape} state:{state} reward:{reward} marco_f1:{marco_f1}')\n"
      ],
      "metadata": {
        "colab": {
          "base_uri": "https://localhost:8080/"
        },
        "id": "e7A_nnx_oD3d",
        "outputId": "ea04ef3c-c440-4371-a9be-e608978c5c6a"
      },
      "execution_count": null,
      "outputs": [
        {
          "output_type": "stream",
          "name": "stdout",
          "text": [
            "reset\n",
            "reset\n"
          ]
        }
      ]
    },
    {
      "cell_type": "code",
      "source": [
        "import math\n",
        "\n",
        "#\n",
        "EPS_START = 1\n",
        "EPS_END = 0.05\n",
        "EPS_DECAY = 1000\n",
        "steps_done = 0\n",
        "\n",
        "####\n",
        "buffer_size = 10000\n",
        "###\n",
        "episodes = 500\n",
        "max_step = 100\n",
        "batch_size = 64\n",
        "TAU = 0.005\n",
        "gamma = 0.99\n",
        "\n",
        "# hyper parameter\n",
        "observation_size = env.observation_size\n",
        "action_size = env.action_size\n",
        "lr = 1e-4\n",
        "\n",
        "###\n",
        "# Initialize networks and optimizer\n",
        "q_network = QNetwork(observation_size, action_size)\n",
        "target_network = QNetwork(observation_size, action_size)\n",
        "target_network.load_state_dict(q_network.state_dict())\n",
        "optimizer = optim.Adam(q_network.parameters(), lr=lr)\n",
        "loss_fn = nn.MSELoss()\n",
        "\n",
        "\n",
        "# Replay memory\n",
        "replay_buffer = ReplayBuffer(buffer_size)\n",
        "\n",
        "\n",
        "def select_action(state):\n",
        "    global steps_done\n",
        "    sample = random.random()\n",
        "    eps_threshold = EPS_END + (EPS_START - EPS_END) * \\\n",
        "        math.exp(-1. * steps_done / EPS_DECAY)\n",
        "    steps_done += 1\n",
        "    if sample > eps_threshold:\n",
        "        with torch.no_grad():\n",
        "            # t.max(1) will return the largest column value of each row.\n",
        "            # second column on max result is index of where max element was\n",
        "            # found, so we pick action with the larger expected reward.\n",
        "            action = torch.argmax(q_network(state)).item()\n",
        "            return action\n",
        "    else:\n",
        "        return np.random.choice(range(k))"
      ],
      "metadata": {
        "id": "wvdqQgqbYiju"
      },
      "execution_count": null,
      "outputs": []
    },
    {
      "cell_type": "code",
      "source": [
        "# Function to update the Q-network\n",
        "def train():\n",
        "    if len(replay_buffer) < batch_size:\n",
        "        return\n",
        "        # prepare the training data\n",
        "    states, actions, rewards, next_states = replay_buffer.sample(batch_size)\n",
        "\n",
        "    rewards = torch.FloatTensor(rewards).unsqueeze(1)\n",
        "    actions = torch.tensor(np.array(actions)).unsqueeze(1)\n",
        "    states = torch.tensor(np.array(states)).squeeze(1)\n",
        "    next_states = torch.tensor(np.array(next_states)).squeeze(1)\n",
        "\n",
        "    # # Compute current Q values\n",
        "    q_values = q_network(states).gather(1, actions)\n",
        "\n",
        "\n",
        "\n",
        "        # Compute target Q values\n",
        "    with torch.no_grad():\n",
        "        next_q_values = target_network(next_states).max(1).values.unsqueeze(1)\n",
        "    targets = rewards + (gamma * next_q_values)\n",
        "\n",
        "\n",
        "        # Update the network\n",
        "    loss = loss_fn(q_values, targets)\n",
        "    optimizer.zero_grad()\n",
        "    loss.backward()\n",
        "    optimizer.step()\n",
        "\n",
        "    return loss\n",
        "\n"
      ],
      "metadata": {
        "id": "aVEQuGU4YihR"
      },
      "execution_count": null,
      "outputs": []
    },
    {
      "cell_type": "code",
      "source": [
        "#training loop\n",
        "results = []\n",
        "for episode in range(episodes):\n",
        "    state = env.get_state(reset=True)\n",
        "    total_reward = 0\n",
        "\n",
        "    for t in range(max_step):\n",
        "        action = select_action(state)\n",
        "        observation, reward, marco_f1 = env.step(action)\n",
        "# '''\n",
        "#         done = terminated or truncated\n",
        "#         if terminated:\n",
        "#             next_state = None\n",
        "#         else:\n",
        "#             next_state = observation\n",
        "# '''\n",
        "        next_state = observation\n",
        "\n",
        "\n",
        "        replay_buffer.push(state, action, reward, next_state)\n",
        "\n",
        "        state = next_state\n",
        "        total_reward += reward\n",
        "\n",
        "        train()\n",
        "\n",
        "\n",
        "        # Soft update of the target network's weights\n",
        "        target_net_state_dict = q_network.state_dict()\n",
        "        policy_net_state_dict = target_network.state_dict()\n",
        "        for key in policy_net_state_dict:\n",
        "            target_net_state_dict[key] = policy_net_state_dict[key]*TAU + target_net_state_dict[key]*(1-TAU)\n",
        "        target_network.load_state_dict(target_net_state_dict)\n",
        "\n",
        "        # if terminated or truncated:\n",
        "        #     break\n",
        "\n",
        "\n",
        "    results.append((episode, total_reward, marco_f1))\n",
        "    print(f\"Episode: {episode}, marco_f1: {marco_f1}, Total Reward: {total_reward}\")\n",
        "\n",
        "    ## for debug - train() - just get some replay memory.\n",
        "    if episode == 3:\n",
        "        print('break')\n",
        "        break"
      ],
      "metadata": {
        "id": "eDJNP5DrYiem",
        "colab": {
          "base_uri": "https://localhost:8080/"
        },
        "outputId": "8129d998-65be-489b-e3df-f7a073dbbcea"
      },
      "execution_count": null,
      "outputs": [
        {
          "output_type": "stream",
          "name": "stdout",
          "text": [
            "reset\n",
            "Episode: 0, marco_f1: 0.6694863680623174, Total Reward: 0.011918093149363873\n",
            "reset\n",
            "Episode: 1, marco_f1: 0.6694863680623174, Total Reward: 0.026086510010206787\n",
            "reset\n",
            "Episode: 2, marco_f1: 0.6694863680623174, Total Reward: 0.056758828801047545\n",
            "reset\n",
            "Episode: 3, marco_f1: 0.6694863680623174, Total Reward: 0.060106302181864746\n",
            "break\n"
          ]
        }
      ]
    },
    {
      "cell_type": "code",
      "source": [
        "env.observation_size"
      ],
      "metadata": {
        "id": "MOcpTfuTYicX",
        "colab": {
          "base_uri": "https://localhost:8080/"
        },
        "outputId": "ad9d2a2b-afee-4e50-a954-eee659e218aa"
      },
      "execution_count": null,
      "outputs": [
        {
          "output_type": "execute_result",
          "data": {
            "text/plain": [
              "160"
            ]
          },
          "metadata": {},
          "execution_count": 43
        }
      ]
    },
    {
      "cell_type": "code",
      "source": [],
      "metadata": {
        "id": "5EDhEXVBYiZs"
      },
      "execution_count": null,
      "outputs": []
    },
    {
      "cell_type": "code",
      "source": [],
      "metadata": {
        "id": "WtXEBqaGYiXW"
      },
      "execution_count": null,
      "outputs": []
    },
    {
      "cell_type": "code",
      "source": [],
      "metadata": {
        "id": "rQlLLI68YiUm"
      },
      "execution_count": null,
      "outputs": []
    },
    {
      "cell_type": "code",
      "source": [],
      "metadata": {
        "id": "RxfEPfQRYiR1"
      },
      "execution_count": null,
      "outputs": []
    },
    {
      "cell_type": "code",
      "source": [],
      "metadata": {
        "id": "xIu2ZcDtYiPJ"
      },
      "execution_count": null,
      "outputs": []
    }
  ]
}